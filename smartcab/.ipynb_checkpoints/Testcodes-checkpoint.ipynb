{
 "cells": [
  {
   "cell_type": "code",
   "execution_count": 1,
   "metadata": {
    "collapsed": true
   },
   "outputs": [],
   "source": [
    "from itertools import product"
   ]
  },
  {
   "cell_type": "code",
   "execution_count": 2,
   "metadata": {
    "collapsed": false
   },
   "outputs": [
    {
     "data": {
      "text/plain": [
       "[(1, 3), (1, 4), (2, 3), (2, 4), (3, 3), (3, 4)]"
      ]
     },
     "execution_count": 2,
     "metadata": {},
     "output_type": "execute_result"
    }
   ],
   "source": [
    "list(product([1,2,3],[3,4]))"
   ]
  },
  {
   "cell_type": "code",
   "execution_count": 8,
   "metadata": {
    "collapsed": false
   },
   "outputs": [
    {
     "data": {
      "text/plain": [
       "{(('forward', 'green'), None): 0,\n",
       " (('forward', 'green'), 'forward'): 0,\n",
       " (('forward', 'green'), 'left'): 0,\n",
       " (('forward', 'green'), 'right'): 0,\n",
       " (('forward', 'red'), None): 0,\n",
       " (('forward', 'red'), 'forward'): 0,\n",
       " (('forward', 'red'), 'left'): 0,\n",
       " (('forward', 'red'), 'right'): 0,\n",
       " (('left', 'green'), None): 0,\n",
       " (('left', 'green'), 'forward'): 0,\n",
       " (('left', 'green'), 'left'): 0,\n",
       " (('left', 'green'), 'right'): 0,\n",
       " (('left', 'red'), None): 0,\n",
       " (('left', 'red'), 'forward'): 0,\n",
       " (('left', 'red'), 'left'): 0,\n",
       " (('left', 'red'), 'right'): 0,\n",
       " (('right', 'green'), None): 0,\n",
       " (('right', 'green'), 'forward'): 0,\n",
       " (('right', 'green'), 'left'): 0,\n",
       " (('right', 'green'), 'right'): 0,\n",
       " (('right', 'red'), None): 0,\n",
       " (('right', 'red'), 'forward'): 0,\n",
       " (('right', 'red'), 'left'): 0,\n",
       " (('right', 'red'), 'right'): 0}"
      ]
     },
     "execution_count": 8,
     "metadata": {},
     "output_type": "execute_result"
    }
   ],
   "source": [
    "waypoints =['forward','right','left']\n",
    "light = ['red', 'green']\n",
    "actions= ['forward','right','left', None]\n",
    "states =list(product(waypoints, light))\n",
    "keys =list(product(states, actions))\n",
    "{key: 0 for key in keys}"
   ]
  },
  {
   "cell_type": "code",
   "execution_count": 10,
   "metadata": {
    "collapsed": false
   },
   "outputs": [],
   "source": [
    "keys= list(product(light, actions))"
   ]
  },
  {
   "cell_type": "code",
   "execution_count": 11,
   "metadata": {
    "collapsed": false
   },
   "outputs": [
    {
     "data": {
      "text/plain": [
       "{('green', None): 0,\n",
       " ('green', 'forward'): 0,\n",
       " ('green', 'left'): 0,\n",
       " ('green', 'right'): 0,\n",
       " ('red', None): 0,\n",
       " ('red', 'forward'): 0,\n",
       " ('red', 'left'): 0,\n",
       " ('red', 'right'): 0}"
      ]
     },
     "execution_count": 11,
     "metadata": {},
     "output_type": "execute_result"
    }
   ],
   "source": [
    "{key:0 for key in keys}"
   ]
  },
  {
   "cell_type": "markdown",
   "metadata": {
    "collapsed": true
   },
   "source": [
    "**Some statistics**"
   ]
  },
  {
   "cell_type": "markdown",
   "metadata": {},
   "source": [
    "Tau =-.1"
   ]
  },
  {
   "cell_type": "code",
   "execution_count": 10,
   "metadata": {
    "collapsed": false
   },
   "outputs": [
    {
     "name": "stdout",
     "output_type": "stream",
     "text": [
      "the number of elements is: 10\n",
      "The median is: 0.893939393939\n",
      "The mean is: 0.888888888889\n",
      "The standard deviation is:0.0414018212766\n"
     ]
    }
   ],
   "source": [
    "import numpy as np\n",
    "successes =[ 0.959595959596,0.89898989899,0.888888888889,0.808080808081,\n",
    "            0.848484848485,0.868686868687,0.909090909091,0.89898989899,0.939393939394,\n",
    "           0.868686868687]\n",
    "print \"the number of elements is: \"+str( np.size(successes))\n",
    "print \"The median is: \"+ str(np.median(successes))\n",
    "print \"The mean is: \"+str(np.mean(successes))\n",
    "print \"The standard deviation is:\" + str(np.std(successes))"
   ]
  },
  {
   "cell_type": "markdown",
   "metadata": {},
   "source": [
    "Tau =-.2"
   ]
  },
  {
   "cell_type": "code",
   "execution_count": 13,
   "metadata": {
    "collapsed": false
   },
   "outputs": [
    {
     "name": "stdout",
     "output_type": "stream",
     "text": [
      "the number of elements is: 10\n",
      "The median is: 0.929292929293\n",
      "The mean is: 0.917171717172\n",
      "The standard deviation is:0.0288542562769\n"
     ]
    }
   ],
   "source": [
    "import numpy as np\n",
    "successes =[0.89898989899, 0.929292929293,0.878787878788,0.868686868687, 0.888888888889,\n",
    "            0.949494949495,0.939393939394,0.949494949495, 0.939393939394,0.929292929293 ]\n",
    "print \"the number of elements is: \"+str( np.size(successes))\n",
    "print \"The median is: \"+ str(np.median(successes))\n",
    "print \"The mean is: \"+str(np.mean(successes))\n",
    "print \"The standard deviation is:\" + str(np.std(successes))"
   ]
  },
  {
   "cell_type": "markdown",
   "metadata": {},
   "source": [
    "Tau = -.3"
   ]
  },
  {
   "cell_type": "code",
   "execution_count": 14,
   "metadata": {
    "collapsed": false
   },
   "outputs": [
    {
     "name": "stdout",
     "output_type": "stream",
     "text": [
      "the number of elements is: 10\n",
      "The median is: 0.979797979798\n",
      "The mean is: 0.971717171717\n",
      "The standard deviation is:0.0274033534671\n"
     ]
    }
   ],
   "source": [
    "import numpy as np\n",
    "successes =[0.989898989899, 0.959595959596, 0.979797979798,  0.959595959596,\n",
    "           0.89898989899,0.969696969697, 0.989898989899, 0.989898989899,\n",
    "           0.979797979798,1.0]\n",
    "print \"the number of elements is: \"+str( np.size(successes))\n",
    "print \"The median is: \"+ str(np.median(successes))\n",
    "print \"The mean is: \"+str(np.mean(successes))\n",
    "print \"The standard deviation is:\" + str(np.std(successes))"
   ]
  },
  {
   "cell_type": "markdown",
   "metadata": {
    "collapsed": true
   },
   "source": [
    "Finding zeta( while holding Tau at = -.3) "
   ]
  },
  {
   "cell_type": "code",
   "execution_count": null,
   "metadata": {
    "collapsed": true
   },
   "outputs": [],
   "source": [
    "z"
   ]
  }
 ],
 "metadata": {
  "kernelspec": {
   "display_name": "Python 2",
   "language": "python",
   "name": "python2"
  },
  "language_info": {
   "codemirror_mode": {
    "name": "ipython",
    "version": 2
   },
   "file_extension": ".py",
   "mimetype": "text/x-python",
   "name": "python",
   "nbconvert_exporter": "python",
   "pygments_lexer": "ipython2",
   "version": "2.7.11"
  }
 },
 "nbformat": 4,
 "nbformat_minor": 0
}
